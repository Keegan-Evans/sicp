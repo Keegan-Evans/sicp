{
 "cells": [
  {
   "cell_type": "markdown",
   "metadata": {},
   "source": [
    "## chapter 1 code"
   ]
  },
  {
   "cell_type": "code",
   "execution_count": 10,
   "metadata": {},
   "outputs": [],
   "source": [
    "(define (sqrt-iter guess x)\n",
    "  (if (good-enough? guess x)\n",
    "    guess\n",
    "    (sqrt-iter (improve guess x) x )))\n",
    "\n",
    "(define (improve guess x)\n",
    "  (average guess (/ x guess)))\n",
    "\n",
    "(define (average x y)\n",
    "  (/ (+ x y) 2))\n",
    "\n",
    "(define (good-enough? guess x)\n",
    "  (< (abs (- (square guess) x)) 0.001))\n",
    "\n",
    "(define (square x)\n",
    "  (* x x))\n",
    "\n",
    "(define (sqrt x)\n",
    "  (sqrt-iter 1.0 x))\n",
    "\n",
    "(define (1+ x)\n",
    "    (+ x 1))\n",
    "\n",
    "(define (-1+ x)\n",
    "    (- x 1))"
   ]
  },
  {
   "cell_type": "markdown",
   "metadata": {},
   "source": [
    "# Structure and Interpretation of Computer Programs - Exercises"
   ]
  },
  {
   "cell_type": "markdown",
   "metadata": {},
   "source": [
    "## 1.1"
   ]
  },
  {
   "cell_type": "code",
   "execution_count": null,
   "metadata": {},
   "outputs": [],
   "source": [
    "(+  (* 2 4) (- 4 6))"
   ]
  },
  {
   "cell_type": "code",
   "execution_count": 3,
   "metadata": {},
   "outputs": [
    {
     "data": {
      "text/plain": [
       "3"
      ]
     },
     "execution_count": 3,
     "metadata": {},
     "output_type": "execute_result"
    }
   ],
   "source": [
    "(define a 3)\n",
    "a"
   ]
  },
  {
   "cell_type": "code",
   "execution_count": 4,
   "metadata": {},
   "outputs": [
    {
     "data": {
      "text/plain": [
       "4"
      ]
     },
     "execution_count": 4,
     "metadata": {},
     "output_type": "execute_result"
    }
   ],
   "source": [
    "(define b (+ a 1))\n",
    "b"
   ]
  },
  {
   "cell_type": "code",
   "execution_count": null,
   "metadata": {},
   "outputs": [],
   "source": [
    "(+ a b (* a b))"
   ]
  },
  {
   "cell_type": "code",
   "execution_count": null,
   "metadata": {},
   "outputs": [],
   "source": [
    "(= a b)"
   ]
  },
  {
   "cell_type": "code",
   "execution_count": null,
   "metadata": {},
   "outputs": [],
   "source": [
    "(if (and (> b a) (< b (* a b)))\n",
    "    b \n",
    "    a)"
   ]
  },
  {
   "cell_type": "code",
   "execution_count": 5,
   "metadata": {},
   "outputs": [
    {
     "data": {
      "text/plain": [
       "16"
      ]
     },
     "execution_count": 5,
     "metadata": {},
     "output_type": "execute_result"
    }
   ],
   "source": [
    "(cond   (( = a 4)  6)\n",
    "        ((= b 4)(+ 6 7 a))\n",
    "        (else 25))"
   ]
  },
  {
   "cell_type": "code",
   "execution_count": null,
   "metadata": {},
   "outputs": [],
   "source": [
    "(+ 2 (if (> b a) \n",
    "         b \n",
    "         a))"
   ]
  },
  {
   "cell_type": "code",
   "execution_count": null,
   "metadata": {},
   "outputs": [],
   "source": [
    "(* (cond ((> a b) a )\n",
    "         ((< a b) b )\n",
    "         (else -1))\n",
    "   (+ a 1 ))"
   ]
  },
  {
   "cell_type": "markdown",
   "metadata": {},
   "source": [
    "## 1.2"
   ]
  },
  {
   "cell_type": "code",
   "execution_count": 1,
   "metadata": {},
   "outputs": [
    {
     "data": {
      "text/plain": [
       "-37/150"
      ]
     },
     "execution_count": 1,
     "metadata": {},
     "output_type": "execute_result"
    }
   ],
   "source": [
    "(/(+ 4\n",
    "     5\n",
    "     (- 2\n",
    "        (- 3\n",
    "           (+ 6\n",
    "              (/ 4 5)\n",
    "           )\n",
    "        )\n",
    "     )\n",
    "   )\n",
    "  (* 3\n",
    "     (- 6 2)\n",
    "     (- 2 7)))"
   ]
  },
  {
   "cell_type": "markdown",
   "metadata": {},
   "source": [
    "## 1.3"
   ]
  },
  {
   "cell_type": "code",
   "execution_count": null,
   "metadata": {},
   "outputs": [],
   "source": [
    ";;; define square function first\n",
    "(define (square x) (* x x))\n",
    "\n",
    ";;; define sum of squares \n",
    "(define (sum_of_squares x y)\n",
    "   (+ (square x)\n",
    "      (square y)))\n",
    "   \n",
    "\n",
    "(define (sum_biggest_squares a b c)\n",
    "    (cond((OR(AND (> b a) (> c a)) (= a c)) (sum_of_squares b c))\n",
    "         ((OR(AND (> a b) (> c b)) (= a b)) (sum_of_squares a c))\n",
    "         ((OR(AND (> a c) (> b c)) (= b c)) (sum_of_squares a b))))"
   ]
  },
  {
   "cell_type": "markdown",
   "metadata": {},
   "source": [
    "## 1.4\n",
    "It looks to the most interior function/set of parentheses, that is the expression (> b 0), that is, is \"b\" greater than zero? this is then fed to next function out, that is the conditional (if proposition return_if_true return_if_false) , which in this case is either the symol \"+\" or  the symbol \"-\", which is returned as the operator of the next function, defining it is as either a addition ofor subtraction function. "
   ]
  },
  {
   "cell_type": "code",
   "execution_count": null,
   "metadata": {},
   "outputs": [],
   "source": [
    "(define (a-plus-abs-b a b)\n",
    "  ((if (> b 0) + -) a b))"
   ]
  },
  {
   "cell_type": "markdown",
   "metadata": {},
   "source": [
    "## 1.5\n",
    "If the function is evaluated using normal-order evaluation, then the function will return 0. However, if aplicative-order evalution is used, then the program will try keep running (p) as it calls itself, therefore never reaching a primitive function to be evaluated and therefore never completing running"
   ]
  },
  {
   "cell_type": "markdown",
   "metadata": {},
   "source": [
    "## 1.6\n",
    "\n",
    "If you try finding the square root then it appears to freeze and does not release control of the cursor back to you, as it is still running or trying to run the command. I think this is because scheme uses applicative order, that is it tries to evaluate all of the expressions before it running the function. Because it recursively calls itself, it continutes to try to evaluate the else-clause until available memory is filled."
   ]
  },
  {
   "cell_type": "code",
   "execution_count": null,
   "metadata": {},
   "outputs": [],
   "source": [
    "(define (new-if predicate then-clause else-clause)\n",
    "    (cond (predicate then-clause)\n",
    "    (else else-clause)))\n",
    "\n",
    "(define (sqrt-iter-new-if guess x)\n",
    "    (new-if (good-enough? guess x)\n",
    "    guess  \n",
    "    (sqrt-iter-new-if (improve guess x) x)))\n"
   ]
  },
  {
   "cell_type": "markdown",
   "metadata": {},
   "source": [
    "## 1.7\n",
    "\n",
    "With small numbers, the original approach can prevent you from finding an even remotely accurate answer, as the absolute difference between a guess that is even many orders of magnitude from being right and the actual square root could be much smaller than the threshold(0.001 in this case). On the other hand, with very large numbers, by having a very small allowable difference between guesses, a much higher relative degree of accucuracy is \"required\" to indicate to the program that the correct answer has been found. This could lead to the program running out of memory before returning the \"correct\" answer, even if it has produced a result with a sufficient degree of accuracy. By making the evaluation \"relative\" to the size of the number, both of these issues are avoided. In the case of large numbers by allowing the program to run with a reasonable amount of resources and in the case of very small numbers with enough accuarcy to actually describe the square root of the number."
   ]
  },
  {
   "cell_type": "code",
   "execution_count": 7,
   "metadata": {},
   "outputs": [],
   "source": [
    "(define (sqrt-iter-2 guess x)\n",
    "    (define this-guess (improve guess x))\n",
    "    (if (good-enough-2? guess this-guess)\n",
    "        guess\n",
    "        (sqrt-iter-2 this-guess x)))\n",
    "\n",
    "(define (good-enough-2? last-guess this-guess)\n",
    "    (< (/ (abs(- this-guess last-guess)) this-guess) (/ 1 10000)))\n",
    "\n",
    "(define (sqrt-2 x)\n",
    "    (sqrt-iter-2 1.0 x))\n"
   ]
  },
  {
   "cell_type": "markdown",
   "metadata": {},
   "source": [
    "## 1.8"
   ]
  },
  {
   "cell_type": "code",
   "execution_count": 21,
   "metadata": {},
   "outputs": [],
   "source": [
    "(define (cube-iter guess x)\n",
    "    (define this-guess (improve-cube guess x))\n",
    "    (if (cube-good? guess x) \n",
    "        guess\n",
    "        (cube-iter (improve-cube guess x) x)))\n",
    "\n",
    "(define (cube-good? guess x)\n",
    "    (<  (abs (- x (cube guess))) 0.0001))\n",
    "\n",
    "  \n",
    "(define (cube x)\n",
    "    (* x x x))\n",
    "\n",
    "(define (improve-cube guess x)\n",
    "    (/ (/ x (+ (square guess) (* 2 guess))) 3))\n",
    "\n",
    "  \n",
    "(define (cube-rt x)\n",
    "    (cube-iter 1.0 x))"
   ]
  },
  {
   "cell_type": "code",
   "execution_count": 22,
   "metadata": {},
   "outputs": [
    {
     "data": {
      "text/plain": [
       "3.0"
      ]
     },
     "execution_count": 22,
     "metadata": {},
     "output_type": "execute_result"
    }
   ],
   "source": [
    "(cube-rt 27)"
   ]
  },
  {
   "cell_type": "markdown",
   "metadata": {},
   "source": [
    "## 1.9"
   ]
  },
  {
   "cell_type": "markdown",
   "metadata": {},
   "source": [
    "## 1.10"
   ]
  },
  {
   "cell_type": "code",
   "execution_count": 12,
   "metadata": {},
   "outputs": [],
   "source": [
    "(define ( A x y)\n",
    "    (cond ((= y 0) 0) \n",
    "          ((= x 0) (* 2 y))\n",
    "          ((= y 1) 2)\n",
    "          (else (A (- x 1) (A x (- y 1))))))"
   ]
  },
  {
   "cell_type": "markdown",
   "metadata": {},
   "source": [
    "(A 2 4)\n",
    "(A 1 (A 2 3))\n",
    "(A 1 (A 1 (A 2 2)))\n",
    "(A 1 (A 1 (A 1 (A 2 1))))\n",
    "(A 1 (A 1 (A 1 2)))\n",
    "(A 1 (A 1 (A 0 (A 1 1))))\n",
    "(A 1 (A 1 (4)))\n",
    "(A 1 (A 0 (A 1 3)))\n",
    "(A 1 (A 0 (A 0 (A 1 2))))\n",
    "(A 1 (A 0 (A 0 (A 0 (A 1 1)))))\n",
    "(A 1 (A 0 (A 0 4)))\n",
    "(A 1 (A 0 8))\n",
    "(A 1 16)\n",
    "(A 0 (A 1 15))\n",
    "(A 0 (A 0 (A 1 14)))\n",
    "(A 0 (A 0 (A 0 (A 1 13))))\n",
    "(A 0 (A 0 (A 0 (A 0 (A 1 12)))))\n",
    "(A 0 (A 0 (A 0 (A 0 (A 0 (A 1 11))))))\n",
    "(A 0 (A 0 (A 0 (A 0 (A 0 (A 0 (A 1 10)))))))\n",
    "(A 0 (A 0 (A 0 (A 0 (A 0 (A 0 (A 0 (A 1 9))))))))\n",
    "...\n",
    "(A 0 (A 0 (A 0 (A 0 (A 0 (A 0 (A 0 (A 0 (A 0 (A 0 (A 0 (A 0 (A 0 (A 0 (A 0 (A 0 2))))))))))))))))\n",
    "(A 0 (A 0 (A 0 (A 0 (A 0 (A 0 (A 0 (A 0 (A 0 (A 0 (A 0 (A 0 (A 0 (A 0 (A 0 4)))))))))))))))\n",
    "(A 0 (A 0 (A 0 (A 0 (A 0 (A 0 (A 0 (A 0 (A 0 (A 0 (A 0 (A 0 (A 0 (A 0 8))))))))))))))\n",
    "(A 0 (A 0 (A 0 (A 0 (A 0 (A 0 (A 0 (A 0 (A 0 (A 0 (A 0 (A 0 (A 0 16)))))))))))))\n",
    "...\n",
    "(A 0 32768)\n",
    "65536"
   ]
  },
  {
   "cell_type": "code",
   "execution_count": 23,
   "metadata": {},
   "outputs": [
    {
     "data": {
      "text/plain": [
       "64"
      ]
     },
     "execution_count": 23,
     "metadata": {},
     "output_type": "execute_result"
    }
   ],
   "source": [
    "(A 1 6)"
   ]
  },
  {
   "cell_type": "code",
   "execution_count": 20,
   "metadata": {},
   "outputs": [
    {
     "data": {
      "text/plain": [
       "65536"
      ]
     },
     "execution_count": 20,
     "metadata": {},
     "output_type": "execute_result"
    }
   ],
   "source": [
    "(A 2 4)"
   ]
  },
  {
   "cell_type": "code",
   "execution_count": 22,
   "metadata": {},
   "outputs": [
    {
     "data": {
      "text/plain": [
       "16"
      ]
     },
     "execution_count": 22,
     "metadata": {},
     "output_type": "execute_result"
    }
   ],
   "source": [
    "(A 2 3)"
   ]
  },
  {
   "cell_type": "markdown",
   "metadata": {},
   "source": [
    "$ f = 2 * n $"
   ]
  },
  {
   "cell_type": "markdown",
   "metadata": {},
   "source": [
    "$ g = 2 ^ n $"
   ]
  },
  {
   "cell_type": "code",
   "execution_count": null,
   "metadata": {},
   "outputs": [],
   "source": []
  }
 ],
 "metadata": {
  "kernelspec": {
   "display_name": "Calysto Scheme 3",
   "language": "scheme",
   "name": "calysto_scheme"
  },
  "language_info": {
   "codemirror_mode": {
    "name": "scheme"
   },
   "mimetype": "text/x-scheme",
   "name": "scheme",
   "pygments_lexer": "scheme"
  }
 },
 "nbformat": 4,
 "nbformat_minor": 2
}
